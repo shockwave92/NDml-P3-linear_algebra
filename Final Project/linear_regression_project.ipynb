{
 "cells": [
  {
   "cell_type": "markdown",
   "metadata": {},
   "source": [
    "# 1 矩阵运算\n",
    "\n",
    "## 1.1 创建一个 4*4 的单位矩阵"
   ]
  },
  {
   "cell_type": "code",
   "execution_count": 1,
   "metadata": {
    "collapsed": true
   },
   "outputs": [],
   "source": [
    "# 这个项目设计来帮你熟悉 python list 和线性代数\n",
    "# 你不能调用任何python库，包括NumPy，来完成作业\n",
    "import math\n",
    "import pprint\n",
    "\n",
    "pp = pprint.PrettyPrinter(indent = 1,width=20)\n",
    "test = [[1],[2],[3]]\n",
    "A = [[1,2,3], \n",
    "     [2,3,3], \n",
    "     [1,2,5]]\n",
    "\n",
    "B = [[1,2,3,5], \n",
    "     [2,3,3,5], \n",
    "     [1,2,5,1]]\n",
    "\n",
    "#TODO 创建一个 4*4 单位矩阵\n",
    "I = [[1,0,0,0],\n",
    "     [0,1,0,0],\n",
    "     [0,0,1,0],\n",
    "     [0,0,0,1]]"
   ]
  },
  {
   "cell_type": "markdown",
   "metadata": {},
   "source": [
    "## 1.2 返回矩阵的行数和列数"
   ]
  },
  {
   "cell_type": "code",
   "execution_count": 2,
   "metadata": {
    "collapsed": true
   },
   "outputs": [],
   "source": [
    "# TODO 返回矩阵的行数和列数\n",
    "def shape(M):\n",
    "    row = len(M)\n",
    "    col = len(M[0])\n",
    "    return row,col"
   ]
  },
  {
   "cell_type": "markdown",
   "metadata": {},
   "source": [
    "## 1.3 每个元素四舍五入到特定小数数位"
   ]
  },
  {
   "cell_type": "code",
   "execution_count": 3,
   "metadata": {
    "collapsed": true
   },
   "outputs": [],
   "source": [
    "# TODO 每个元素四舍五入到特定小数数位\n",
    "# 直接修改参数矩阵，无返回值\n",
    "\n",
    "def matxRound(M, decPts=4):\n",
    "    for l in range(len(M)):\n",
    "        for i in range(len(M[l])):\n",
    "            M[l][i] = round(M[l][i],decPts)\n",
    "    pass"
   ]
  },
  {
   "cell_type": "markdown",
   "metadata": {},
   "source": [
    "## 1.4 计算矩阵的转置"
   ]
  },
  {
   "cell_type": "code",
   "execution_count": 4,
   "metadata": {
    "collapsed": true
   },
   "outputs": [],
   "source": [
    "# TODO 计算矩阵的转置\n",
    "def transpose(M):\n",
    "    return map(list,zip(*M))"
   ]
  },
  {
   "cell_type": "markdown",
   "metadata": {},
   "source": [
    "## 1.5 计算矩阵乘法 AB"
   ]
  },
  {
   "cell_type": "code",
   "execution_count": 5,
   "metadata": {
    "collapsed": true
   },
   "outputs": [],
   "source": [
    "# TODO 计算矩阵乘法 AB，如果无法相乘则返回None\n",
    "def matxMultiply(A, B):\n",
    "    if len(A[0]) == len(B):\n",
    "        res = [[sum(a*b for a,b in zip(row,col)) for col in zip(*B)] for row in A]\n",
    "        return res\n",
    "    else:\n",
    "        return None"
   ]
  },
  {
   "cell_type": "markdown",
   "metadata": {},
   "source": [
    "## 1.6 测试你的函数是否实现正确"
   ]
  },
  {
   "cell_type": "markdown",
   "metadata": {},
   "source": [
    "**提示：** 你可以用`from pprint import pprint`来更漂亮的打印数据，详见[用法示例](http://cn-static.udacity.com/mlnd/images/pprint.png)和[文档说明](https://docs.python.org/2/library/pprint.html#pprint.pprint)。"
   ]
  },
  {
   "cell_type": "code",
   "execution_count": 6,
   "metadata": {},
   "outputs": [
    {
     "name": "stdout",
     "output_type": "stream",
     "text": [
      "Test 1.2\n",
      "Row and Column in matrix are :  (3, 4)\n"
     ]
    }
   ],
   "source": [
    "#TODO 测试1.2 返回矩阵的行和列\n",
    "print 'Test 1.2'\n",
    "def test_1_2(M):\n",
    "    row, col = shape(M)\n",
    "    assert row == len(M) and col == len(M[0]), 'ROW_AND_COLUMN_NOT_RIGHT'\n",
    "    print 'Row and Column in matrix are : ' ,shape(M)\n",
    "test_1_2(B)"
   ]
  },
  {
   "cell_type": "code",
   "execution_count": 7,
   "metadata": {},
   "outputs": [
    {
     "name": "stdout",
     "output_type": "stream",
     "text": [
      "1.3 Matrix round: \n",
      "[[1.1342, 2.5133],\n",
      " [6.5235, 1.2374]]\n"
     ]
    }
   ],
   "source": [
    "#TODO 测试1.3 每个元素四舍五入到特定小数数位\n",
    "print '1.3 Matrix round: '\n",
    "a = [[1.1342342,2.513262],\n",
    "    [6.5235345334,1.23742938746]]\n",
    "matxRound(a)\n",
    "pp.pprint(a)"
   ]
  },
  {
   "cell_type": "code",
   "execution_count": 8,
   "metadata": {},
   "outputs": [
    {
     "name": "stdout",
     "output_type": "stream",
     "text": [
      "Test 1.4 - matrix for test: \n",
      "[[1, 2, 3],\n",
      " [2, 3, 3],\n",
      " [1, 2, 5]]\n",
      "matrix after transpose: \n",
      "[[1, 2, 1],\n",
      " [2, 3, 2],\n",
      " [3, 3, 5]]\n",
      "OK, function works\n"
     ]
    }
   ],
   "source": [
    "#TODO 测试1.4 计算矩阵的转置\n",
    "def test_1_4(M):\n",
    "    assert M == transpose(transpose(M)),'Not pass test, check again'\n",
    "    print 'OK, function works'\n",
    "#DO test\n",
    "print 'Test 1.4 - matrix for test: '\n",
    "pp.pprint(A)\n",
    "print 'matrix after transpose: '\n",
    "pp.pprint(transpose(A))\n",
    "test_1_4(A)"
   ]
  },
  {
   "cell_type": "code",
   "execution_count": 9,
   "metadata": {},
   "outputs": [
    {
     "name": "stdout",
     "output_type": "stream",
     "text": [
      "Test 1.5 - matrix multiply when not avalible : \n"
     ]
    },
    {
     "ename": "AssertionError",
     "evalue": "A and B can not multiply",
     "output_type": "error",
     "traceback": [
      "\u001b[0;31m---------------------------------------------------------------------------\u001b[0m",
      "\u001b[0;31mAssertionError\u001b[0m                            Traceback (most recent call last)",
      "\u001b[0;32m<ipython-input-9-46596f21a542>\u001b[0m in \u001b[0;36m<module>\u001b[0;34m()\u001b[0m\n\u001b[1;32m     13\u001b[0m      [1,2,5,1]]\n\u001b[1;32m     14\u001b[0m \u001b[0;34m\u001b[0m\u001b[0m\n\u001b[0;32m---> 15\u001b[0;31m \u001b[0mtest_1_5\u001b[0m\u001b[0;34m(\u001b[0m\u001b[0mA\u001b[0m\u001b[0;34m,\u001b[0m\u001b[0mB\u001b[0m\u001b[0;34m)\u001b[0m\u001b[0;34m\u001b[0m\u001b[0m\n\u001b[0m",
      "\u001b[0;32m<ipython-input-9-46596f21a542>\u001b[0m in \u001b[0;36mtest_1_5\u001b[0;34m(A, b)\u001b[0m\n\u001b[1;32m      1\u001b[0m \u001b[0;31m#TODO 测试1.5 计算矩阵乘法AB，AB无法相乘\u001b[0m\u001b[0;34m\u001b[0m\u001b[0;34m\u001b[0m\u001b[0m\n\u001b[1;32m      2\u001b[0m \u001b[0;32mdef\u001b[0m \u001b[0mtest_1_5\u001b[0m\u001b[0;34m(\u001b[0m\u001b[0mA\u001b[0m\u001b[0;34m,\u001b[0m\u001b[0mb\u001b[0m\u001b[0;34m)\u001b[0m\u001b[0;34m:\u001b[0m\u001b[0;34m\u001b[0m\u001b[0m\n\u001b[0;32m----> 3\u001b[0;31m     \u001b[0;32massert\u001b[0m \u001b[0mmatxMultiply\u001b[0m\u001b[0;34m(\u001b[0m\u001b[0mA\u001b[0m\u001b[0;34m,\u001b[0m\u001b[0mb\u001b[0m\u001b[0;34m)\u001b[0m \u001b[0;34m!=\u001b[0m \u001b[0mNone\u001b[0m\u001b[0;34m,\u001b[0m \u001b[0;34m'A and B can not multiply'\u001b[0m\u001b[0;34m\u001b[0m\u001b[0m\n\u001b[0m\u001b[1;32m      4\u001b[0m     \u001b[0;32mprint\u001b[0m \u001b[0;34m'Result for A and B multiply'\u001b[0m\u001b[0;34m,\u001b[0m \u001b[0mmatxMultiply\u001b[0m\u001b[0;34m(\u001b[0m\u001b[0mA\u001b[0m\u001b[0;34m,\u001b[0m\u001b[0mb\u001b[0m\u001b[0;34m)\u001b[0m\u001b[0;34m\u001b[0m\u001b[0m\n\u001b[1;32m      5\u001b[0m \u001b[0;34m\u001b[0m\u001b[0m\n",
      "\u001b[0;31mAssertionError\u001b[0m: A and B can not multiply"
     ]
    }
   ],
   "source": [
    "#TODO 测试1.5 计算矩阵乘法AB，AB无法相乘\n",
    "def test_1_5(A,b):\n",
    "    assert matxMultiply(A,b) != None, 'A and B can not multiply'\n",
    "    print 'Result for A and B multiply', matxMultiply(A,b)\n",
    "    \n",
    "print 'Test 1.5 - matrix multiply when not avalible : '\n",
    "A = [[1,2,3,4], \n",
    "     [2,3,3,6], \n",
    "     [1,2,5,2]]\n",
    "\n",
    "B = [[1,2,3,5], \n",
    "     [2,3,3,5], \n",
    "     [1,2,5,1]]\n",
    "\n",
    "test_1_5(A,B)"
   ]
  },
  {
   "cell_type": "code",
   "execution_count": 10,
   "metadata": {},
   "outputs": [
    {
     "name": "stdout",
     "output_type": "stream",
     "text": [
      "Test 1.5 - matrix multiply when avalible : \n",
      "Result for A and B multiply [[8, 14, 24, 18], [11, 19, 30, 28], [10, 18, 34, 20]]\n"
     ]
    }
   ],
   "source": [
    "#TODO 测试1.5 计算矩阵乘法AB，AB可以相乘\n",
    "print 'Test 1.5 - matrix multiply when avalible : '\n",
    "A = [[1,2,3], \n",
    "     [2,3,3], \n",
    "     [1,2,5]]\n",
    "\n",
    "B = [[1,2,3,5], \n",
    "     [2,3,3,5], \n",
    "     [1,2,5,1]]\n",
    "\n",
    "test_1_5(A,B)"
   ]
  },
  {
   "cell_type": "markdown",
   "metadata": {},
   "source": [
    "# 2 Gaussign Jordan 消元法\n",
    "\n",
    "## 2.1 构造增广矩阵\n",
    "\n",
    "$ A = \\begin{bmatrix}\n",
    "    a_{11}    & a_{12} & ... & a_{1n}\\\\\n",
    "    a_{21}    & a_{22} & ... & a_{2n}\\\\\n",
    "    a_{31}    & a_{22} & ... & a_{3n}\\\\\n",
    "    ...    & ... & ... & ...\\\\\n",
    "    a_{n1}    & a_{n2} & ... & a_{nn}\\\\\n",
    "\\end{bmatrix} , b = \\begin{bmatrix}\n",
    "    b_{1}  \\\\\n",
    "    b_{2}  \\\\\n",
    "    b_{3}  \\\\\n",
    "    ...    \\\\\n",
    "    b_{n}  \\\\\n",
    "\\end{bmatrix}$\n",
    "\n",
    "返回 $ Ab = \\begin{bmatrix}\n",
    "    a_{11}    & a_{12} & ... & a_{1n} & b_{1}\\\\\n",
    "    a_{21}    & a_{22} & ... & a_{2n} & b_{2}\\\\\n",
    "    a_{31}    & a_{22} & ... & a_{3n} & b_{3}\\\\\n",
    "    ...    & ... & ... & ...& ...\\\\\n",
    "    a_{n1}    & a_{n2} & ... & a_{nn} & b_{n} \\end{bmatrix}$"
   ]
  },
  {
   "cell_type": "code",
   "execution_count": 11,
   "metadata": {
    "collapsed": true
   },
   "outputs": [],
   "source": [
    "# TODO 构造增广矩阵，假设A，b行数相同\n",
    "def augmentMatrix(A, b):\n",
    "    if len(A) == len(b):\n",
    "        Ab = [A+b for A,b in zip(A,b)]\n",
    "        return Ab\n",
    "    else:\n",
    "        return 'Can not augment this two matrix'"
   ]
  },
  {
   "cell_type": "code",
   "execution_count": 12,
   "metadata": {},
   "outputs": [
    {
     "data": {
      "text/plain": [
       "[[1, 2, 3, 1, 2, 3, 5], [2, 3, 3, 2, 3, 3, 5], [1, 2, 5, 1, 2, 5, 1]]"
      ]
     },
     "execution_count": 12,
     "metadata": {},
     "output_type": "execute_result"
    }
   ],
   "source": [
    "# test augmentMatrix function\n",
    "augmentMatrix(A,B)"
   ]
  },
  {
   "cell_type": "markdown",
   "metadata": {},
   "source": [
    "## 2.2 初等行变换\n",
    "- 交换两行\n",
    "- 把某行乘以一个非零常数\n",
    "- 把某行加上另一行的若干倍："
   ]
  },
  {
   "cell_type": "code",
   "execution_count": 13,
   "metadata": {
    "collapsed": true
   },
   "outputs": [],
   "source": [
    "# TODO r1 <---> r2\n",
    "# 直接修改参数矩阵，无返回值\n",
    "def swapRows(M, r1, r2):\n",
    "    M[r1], M[r2] = M[r2], M[r1]\n",
    "    pass\n",
    "\n",
    "# TODO r1 <--- r1 * scale， scale!=0\n",
    "# 直接修改参数矩阵，无返回值\n",
    "def scaleRow(M, r, scale):\n",
    "    if scale != 0:\n",
    "        M[r] = [M[r][i]*scale for i in range(len(M[r]))]\n",
    "    else:\n",
    "        raise ValueError\n",
    "    pass\n",
    "\n",
    "# TODO r1 <--- r1 + r2*scale\n",
    "# 直接修改参数矩阵，无返回值\n",
    "def addScaledRow(M, r1, r2, scale):\n",
    "    M[r1] = [M[r1][i] + M[r2][i]*scale for i in range(len(M[r1]))]\n",
    "    pass\n"
   ]
  },
  {
   "cell_type": "markdown",
   "metadata": {},
   "source": [
    "## 2.3  Gaussian Jordan 消元法求解 Ax = b"
   ]
  },
  {
   "cell_type": "markdown",
   "metadata": {},
   "source": [
    "### 提示：\n",
    "\n",
    "步骤1 检查A，b是否行数相同\n",
    "\n",
    "步骤2 构造增广矩阵Ab\n",
    "\n",
    "步骤3 逐列转换Ab为化简行阶梯形矩阵 [中文维基链接](https://zh.wikipedia.org/wiki/%E9%98%B6%E6%A2%AF%E5%BD%A2%E7%9F%A9%E9%98%B5#.E5.8C.96.E7.AE.80.E5.90.8E.E7.9A.84-.7Bzh-hans:.E8.A1.8C.3B_zh-hant:.E5.88.97.3B.7D-.E9.98.B6.E6.A2.AF.E5.BD.A2.E7.9F.A9.E9.98.B5)\n",
    "    \n",
    "    对于Ab的每一列（最后一列除外）\n",
    "        当前列为列c\n",
    "        寻找列c中 对角线以及对角线以下所有元素（行 c~N）的绝对值的最大值\n",
    "        如果绝对值最大值为0\n",
    "            那么A为奇异矩阵，返回None （请在问题2.4中证明该命题）\n",
    "        否则\n",
    "            使用第一个行变换，将绝对值最大值所在行交换到对角线元素所在行（行c） \n",
    "            使用第二个行变换，将列c的对角线元素缩放为1\n",
    "            多次使用第三个行变换，将列c的其他元素消为0\n",
    "            \n",
    "步骤4 返回Ab的最后一列\n",
    "\n",
    "### 注：\n",
    "我们并没有按照常规方法先把矩阵转化为行阶梯形矩阵，再转换为化简行阶梯形矩阵，而是一步到位。如果你熟悉常规方法的话，可以思考一下两者的等价性。"
   ]
  },
  {
   "cell_type": "code",
   "execution_count": 14,
   "metadata": {
    "collapsed": true
   },
   "outputs": [],
   "source": [
    "# TODO 实现 Gaussain Jordan 方法求解 Ax = b\n",
    "\n",
    "\"\"\" Gaussian Jordan 方法求解 Ax = b.\n",
    "    参数\n",
    "        A: 方阵 \n",
    "        b: 列向量\n",
    "        decPts: 四舍五入位数，默认为4\n",
    "        epsilon: 判读是否为0的阈值，默认 1.0e-16\n",
    "        \n",
    "    返回列向量 x 使得 Ax = b \n",
    "    返回None，如果 A，b 高度不同\n",
    "    返回None，如果 A 为奇异矩阵\n",
    "\"\"\"\n",
    "\n",
    "def gj_Solve(A, b, decPts=4, eps = 1.0e-16):\n",
    "    if len(A) == len(b):\n",
    "        '''if A,b have same row, do result. otherwise return None'''\n",
    "        Ab = augmentMatrix(A,b)\n",
    "        (h, w, hb) = (len(A), len(A[0]),len(b))\n",
    "        #matxRound(Ab,decPts)\n",
    "        i = 0\n",
    "        while i < h:\n",
    "            AbT = transpose(Ab)\n",
    "            c = AbT[i]\n",
    "            cy = [abs(ii) for ii in c[i:]]\n",
    "            #print cy\n",
    "            cy_max = max(cy)\n",
    "            #print cy_max\n",
    "            max_i = cy.index(cy_max) + i\n",
    "            #print max_i\n",
    "            if cy_max <= eps:\n",
    "                return None\n",
    "            else:\n",
    "                swapRows(Ab,i,max_i) #交換所在行及最大值所在行\n",
    "                scale = 1./Ab[i][i]  #計算scale\n",
    "                scaleRow(Ab,i,scale) #將所在行的值變成1\n",
    "                for j in range(len(Ab)): #將其他行的值歸零\n",
    "                    if j != i:\n",
    "                        addScaledRow(Ab,j,i, -1.*Ab[j][i]/Ab[i][i])\n",
    "            i += 1\n",
    "        N = transpose(Ab)[-1]\n",
    "        return [[N[j]] for j in range(len(N))]\n",
    "        #return Ab\n",
    "    else:\n",
    "        return None"
   ]
  },
  {
   "cell_type": "markdown",
   "metadata": {},
   "source": [
    "## 2.4 证明下面的命题：\n",
    "\n",
    "**如果方阵 A 可以被分为4个部分: ** \n",
    "\n",
    "$ A = \\begin{bmatrix}\n",
    "    I    & X \\\\\n",
    "    Z    & Y \\\\\n",
    "\\end{bmatrix} , \\text{其中 I 為單位矩陣，Z 為全0矩陣，Y 的第一列全0}$，\n",
    "\n",
    "**那么A为奇异矩阵。**\n",
    "\n",
    "提示：从多种角度都可以完成证明\n",
    "- 考虑矩阵 Y 和 矩阵 A 的秩\n",
    "- 考虑矩阵 Y 和 矩阵 A 的行列式\n",
    "- 考虑矩阵 A 的某一列是其他列的线性组合"
   ]
  },
  {
   "cell_type": "markdown",
   "metadata": {},
   "source": [
    "TODO 请使用 latex （请参照题目的 latex 写法学习）\n",
    "\n",
    "TODO 证明：\n",
    "\n",
    "在\n",
    "\n",
    "$ A = \\begin{bmatrix}\n",
    "    I    & X \\\\\n",
    "    Z    & Y \\\\\n",
    "\\end{bmatrix} , \\text{其中 I 為單位矩陣，Z 為全0矩陣，Y 的第一列全0，的情況下，}$\n",
    "\n",
    "由奇異矩陣的定義可知一方陣是否為奇異矩陣可由此方陣之行列式的絕對值是否為0來判斷，\n",
    "\n",
    "方陣Ａ由於Ｚ為全零矩陣，因此在方陣Ａ的行列式可表示為：\n",
    "\n",
    "$$\n",
    "det(A) = det(\\begin{bmatrix} I & X \\\\ 0 & Y \\end{bmatrix}) \\\\\n",
    "       = det(IY) - 0 \\\\\n",
    "       = det(I)det(Y) \\\\\n",
    "       = det(\\begin{bmatrix}1 & 0 & 0 & ... & 0 \\\\\n",
    "                            0 & 1 & 0 & ... & 0\\\\\n",
    "                            0 & 0 & 1 & ... & 0\\\\\n",
    "                            ... & ... & ... & ... & ... \\\\\n",
    "                            0 & 0 & 0 & ... & 1 \\\\\n",
    "              \\end{bmatrix})\n",
    "         det(\\begin{bmatrix}0 & y_{12} & y_{13} & ... & y_{1n} \\\\\n",
    "                            0 & y_{22} & y_{23} & ... & y_{2n}\\\\\n",
    "                            0 & y_{32} & y_{33} & ... & y_{3n}\\\\\n",
    "                            ... & ... & ... & ... & ... \\\\\n",
    "                            0 & y_{n2} & y_{n3} & ... & y_{nn} \\\\\n",
    "              \\end{bmatrix})\n",
    "$$\n",
    "\n",
    "另由於I為單位矩陣，其行列式為1，因此det(A)可以表示為：\n",
    "\n",
    "$$\n",
    "det(A) = det(\\begin{bmatrix}0 & y_{12} & y_{13} & ... & y_{1n} \\\\\n",
    "                            0 & y_{22} & y_{23} & ... & y_{2n}\\\\\n",
    "                            0 & y_{32} & y_{33} & ... & y_{3n}\\\\\n",
    "                            ... & ... & ... & ... & ... \\\\\n",
    "                            0 & y_{n2} & y_{n3} & ... & y_{nn} \\\\\n",
    "              \\end{bmatrix})\\\\\n",
    "       = 0 * y_{22} * ... * y_{nn} + ... + y_{1n} * 0 * y_{32} - y_{1n} * ... * y_{(n-1)2} * 0 - ... - y_{12} * 0 * ...*y_{nn} \\\\\n",
    "       = 0\n",
    "$$\n",
    "\n",
    "故det(A) = 0\n",
    "\n",
    "可知方陣Ａ必為奇異矩陣。\n"
   ]
  },
  {
   "cell_type": "markdown",
   "metadata": {},
   "source": [
    "## 2.5 测试 gj_Solve() 实现是否正确"
   ]
  },
  {
   "cell_type": "code",
   "execution_count": 15,
   "metadata": {},
   "outputs": [
    {
     "name": "stdout",
     "output_type": "stream",
     "text": [
      "Matrix Ab of A is 奇异矩阵:  [[0, 1, 1], [0, 3, 0]]\n",
      "Matrix Ab of A is 非奇异矩阵:  [[4, 6, -1, 1], [5, -8, 3, 0], [1, 4, 1, 0]]\n",
      "For Ax = b, x =  [[0.16666666666666666], [0.016666666666666663], [-0.23333333333333328]]\n",
      "Ax =  [[1.0], [0.0], [0.0]]\n",
      "OK, Ax == b\n"
     ]
    }
   ],
   "source": [
    "# TODO 构造 矩阵A，列向量b，其中 A 为奇异矩阵\n",
    "matrix1 = [  \n",
    "    [0, 1],  \n",
    "    [0, 3]  \n",
    "]  \n",
    "matrix2 = [  \n",
    "    [1],  \n",
    "    [0]\n",
    "]  \n",
    "#DO TEST\n",
    "if len(matrix1) == len(matrix2):\n",
    "    if gj_Solve(matrix1,matrix2) == None:\n",
    "        Ab = augmentMatrix(matrix1,matrix2)\n",
    "        print 'Matrix Ab of A is 奇异矩阵: ',Ab\n",
    "    else:\n",
    "        print 'A不為奇異矩陣'\n",
    "else:\n",
    "    'A, b行數不同'\n",
    "    \n",
    "# TODO 构造 矩阵A，列向量b，其中 A 为非奇异矩阵\n",
    "matrix3 = [  \n",
    "    [4, 6, -1],  \n",
    "    [5, -8, 3],  \n",
    "    [1, 4, 1],  \n",
    "]  \n",
    "matrixA = [  \n",
    "    [4, 6, -1],  \n",
    "    [5, -8, 3],  \n",
    "    [1, 4, 1],  \n",
    "]  \n",
    "matrix2 = [  \n",
    "    [1],  \n",
    "    [0],\n",
    "    [0]\n",
    "]  \n",
    "#DO TEST\n",
    "if len(matrix3) == len(matrix2):\n",
    "    if gj_Solve(matrix3,matrix2) != None:\n",
    "        Ab = augmentMatrix(matrix3,matrix2)\n",
    "        print 'Matrix Ab of A is 非奇异矩阵: ',Ab\n",
    "    else:\n",
    "        print 'A為奇異矩陣'\n",
    "else:\n",
    "    'A, b行數不同'\n",
    "    \n",
    "# TODO 求解 x 使得 Ax = b\n",
    "x = gj_Solve(matrix3,matrix2)\n",
    "print 'For Ax = b, x = ',x\n",
    "\n",
    "# TODO 计算 Ax\n",
    "a = matxMultiply(matrixA, x)\n",
    "matxRound(a)\n",
    "print 'Ax = ',a\n",
    "\n",
    "# TODO 比较 Ax 与 b\n",
    "def compare_Ax_and_b(Ax,b):\n",
    "    assert Ax == b, 'Ax != b, try again'\n",
    "    print 'OK, Ax == b'\n",
    "\n",
    "# DO TEST\n",
    "compare_Ax_and_b(a,matrix2)"
   ]
  },
  {
   "cell_type": "markdown",
   "metadata": {},
   "source": [
    "# 3 线性回归: \n",
    "\n",
    "## 3.1 计算损失函数相对于参数的导数 (两个3.1 选做其一)\n",
    "\n",
    "我们定义损失函数 E ：\n",
    "$$\n",
    "E = \\sum_{i=1}^{n}{(y_i - mx_i - b)^2}\n",
    "$$\n",
    "\n",
    "证明：\n",
    "$$\n",
    "\\frac{\\partial E}{\\partial m} = \\sum_{i=1}^{n}{-2x_i(y_i - mx_i - b)}\n",
    "$$\n",
    "\n",
    "$$\n",
    "\\frac{\\partial E}{\\partial b} = \\sum_{i=1}^{n}{-2(y_i - mx_i - b)}\n",
    "$$\n",
    "\n",
    "$$\n",
    "\\begin{bmatrix}\n",
    "    \\frac{\\partial E}{\\partial m} \\\\\n",
    "    \\frac{\\partial E}{\\partial b} \n",
    "\\end{bmatrix} = 2X^TXh - 2X^TY\n",
    "$$\n",
    "\n",
    "$$ \n",
    "\\text{其中 }\n",
    "Y =  \\begin{bmatrix}\n",
    "    y_1 \\\\\n",
    "    y_2 \\\\\n",
    "    ... \\\\\n",
    "    y_n\n",
    "\\end{bmatrix}\n",
    ",\n",
    "X =  \\begin{bmatrix}\n",
    "    x_1 & 1 \\\\\n",
    "    x_2 & 1\\\\\n",
    "    ... & ...\\\\\n",
    "    x_n & 1 \\\\\n",
    "\\end{bmatrix},\n",
    "h =  \\begin{bmatrix}\n",
    "    m \\\\\n",
    "    b \\\\\n",
    "\\end{bmatrix}\n",
    "$$"
   ]
  },
  {
   "cell_type": "markdown",
   "metadata": {},
   "source": [
    "TODO 请使用 latex （参照题目的 latex写法学习）\n",
    "\n",
    "TODO 证明：\n",
    "$$\n",
    "E = \\sum_{i=1}^{n}{(y_i - mx_i - b)^2}\n",
    "$$\n",
    "\n",
    "將此方程式對m及b求導後可得到\n",
    "\n",
    "$$\n",
    "\\frac{\\partial E}{\\partial m} = \\sum_{i=1}^{n}{-2x_i(y_i - mx_i - b)}\n",
    "$$\n",
    "以及\n",
    "\n",
    "$$\n",
    "\\frac{\\partial E}{\\partial b} = \\sum_{i=1}^{n}{-2(y_i - mx_i - b)}\n",
    "$$\n",
    "則\n",
    "\n",
    "$$\n",
    "\\begin{bmatrix}\n",
    "    \\frac{\\partial E}{\\partial m} \\\\\n",
    "    \\frac{\\partial E}{\\partial b} \n",
    "\\end{bmatrix} = \n",
    "\\begin{bmatrix}\n",
    "    \\sum_{i=1}^{n}{-2x_i(y_i - mx_i - b)} \\\\\n",
    "    \\sum_{i=1}^{n}{-2(y_i - mx_i - b)}\n",
    "\\end{bmatrix} \\\\\n",
    "=\n",
    "2\\begin{bmatrix}\n",
    "    \\sum_{i=1}^{n}{(mx_i^2+x_ib-x_iy_i)} \\\\\n",
    "    \\sum_{i=1}^{n}{(mx_i+b-y_i)}\n",
    "\\end{bmatrix} \\\\\n",
    "=\n",
    "2\n",
    "\\begin{bmatrix}\n",
    "    \\sum_{i=1}^{n}{(mx_i^2+x_ib)} \\\\\n",
    "    \\sum_{i=1}^{n}{(mx_i+b)}\n",
    "\\end{bmatrix}\n",
    "-2\n",
    "\\begin{bmatrix}\n",
    "    \\sum_{i=1}^{n}{(x_iy_i)} \\\\\n",
    "    \\sum_{i=1}^{n}{(y_i)}\n",
    "\\end{bmatrix} \\\\\n",
    "=\n",
    "2\\sum_{i=1}^{n}\n",
    "\\begin{bmatrix}\n",
    "    {x_i^2} & {x_i} \\\\\n",
    "    {x_i}   & {1}\n",
    "\\end{bmatrix}\n",
    "\\begin{bmatrix}\n",
    "    {m} \\\\\n",
    "    {b}\n",
    "\\end{bmatrix}\n",
    "-2\\sum_{i=1}^{n}\n",
    "\\begin{bmatrix}\n",
    "    {x_i} \\\\\n",
    "    {1}\n",
    "\\end{bmatrix}\n",
    "\\begin{bmatrix}\n",
    "    {y_i} \\\\\n",
    "    0\n",
    "\\end{bmatrix}\\\\\n",
    "$$\n",
    "\n",
    "將此矩陣展開\n",
    "\n",
    "$$\n",
    "=2\n",
    "\\begin{bmatrix}\n",
    "    x_1 & 1 \\\\\n",
    "    x_2 & 1\\\\\n",
    "    ... & ...\\\\\n",
    "    x_n & 1 \\\\\n",
    "\\end{bmatrix}\n",
    "\\begin{bmatrix}\n",
    "    x_1 & x_2 & ... & x_n \\\\\n",
    "    1   &  1  & ... &  1  \\\\\n",
    "\\end{bmatrix}\n",
    "\\begin{bmatrix}\n",
    "    {m} \\\\\n",
    "    {b}\n",
    "\\end{bmatrix}\n",
    "-2\n",
    "\\begin{bmatrix}\n",
    "    x_1 & x_2 & ... & x_n \\\\\n",
    "    1   &  1  & ... &  1  \\\\\n",
    "\\end{bmatrix}\n",
    "\\begin{bmatrix}\n",
    "    y_1 \\\\\n",
    "    y_2 \\\\\n",
    "    ... \\\\\n",
    "    y_n \\\\\n",
    "\\end{bmatrix}\n",
    "$$\n",
    "\n",
    "故可得到下列方程式\n",
    "$$\n",
    "\\begin{bmatrix}\n",
    "    \\frac{\\partial E}{\\partial m} \\\\\n",
    "    \\frac{\\partial E}{\\partial b} \n",
    "\\end{bmatrix} = 2X^TXh - 2X^TY\n",
    "$$\n",
    "\n",
    "$$ \n",
    "\\text{其中 }\n",
    "Y =  \\begin{bmatrix}\n",
    "    y_1 \\\\\n",
    "    y_2 \\\\\n",
    "    ... \\\\\n",
    "    y_n\n",
    "\\end{bmatrix}\n",
    ",\n",
    "X =  \\begin{bmatrix}\n",
    "    x_1 & 1 \\\\\n",
    "    x_2 & 1\\\\\n",
    "    ... & ...\\\\\n",
    "    x_n & 1 \\\\\n",
    "\\end{bmatrix},\n",
    "h =  \\begin{bmatrix}\n",
    "    m \\\\\n",
    "    b \\\\\n",
    "\\end{bmatrix}\n",
    "$$"
   ]
  },
  {
   "cell_type": "markdown",
   "metadata": {},
   "source": [
    "## 3.1 计算损失函数相对于参数的导数（两个3.1 选做其一）\n",
    "\n",
    "证明：\n",
    "\n",
    "$$\n",
    "E = Y^TY -2(Xh)^TY + (Xh)^TXh\n",
    "$$ \n",
    "\n",
    "$$\n",
    "\\begin{bmatrix}\n",
    "    \\frac{\\partial E}{\\partial m} \\\\\n",
    "    \\frac{\\partial E}{\\partial b} \n",
    "\\end{bmatrix}  = \\frac{\\partial E}{\\partial h} = 2X^TXh - 2X^TY\n",
    "$$\n",
    "\n",
    "$$ \n",
    "\\text{其中 }\n",
    "Y =  \\begin{bmatrix}\n",
    "    y_1 \\\\\n",
    "    y_2 \\\\\n",
    "    ... \\\\\n",
    "    y_n\n",
    "\\end{bmatrix}\n",
    ",\n",
    "X =  \\begin{bmatrix}\n",
    "    x_1 & 1 \\\\\n",
    "    x_2 & 1\\\\\n",
    "    ... & ...\\\\\n",
    "    x_n & 1 \\\\\n",
    "\\end{bmatrix},\n",
    "h =  \\begin{bmatrix}\n",
    "    m \\\\\n",
    "    b \\\\\n",
    "\\end{bmatrix}\n",
    "$$"
   ]
  },
  {
   "cell_type": "markdown",
   "metadata": {},
   "source": [
    "TODO 请使用 latex （请参照题目的 latex 写法学习）\n",
    "\n",
    "TODO 证明：\n"
   ]
  },
  {
   "cell_type": "markdown",
   "metadata": {},
   "source": [
    "## 3.2  线性回归\n",
    "\n",
    "### 求解方程 $X^TXh = X^TY $, 计算线性回归的最佳参数 h"
   ]
  },
  {
   "cell_type": "code",
   "execution_count": 16,
   "metadata": {
    "collapsed": true
   },
   "outputs": [],
   "source": [
    "# TODO 实现线性回归\n",
    "'''\n",
    "参数：(x,y) 二元组列表\n",
    "返回：m，b\n",
    "'''\n",
    "def linearRegression(points):\n",
    "    xtx = matxMultiply(transpose(points[0]),points[0])\n",
    "    xty = matxMultiply(transpose(points[0]),points[1])\n",
    "    h = gj_Solve(xtx,xty)\n",
    "    return h[0],h[1]"
   ]
  },
  {
   "cell_type": "code",
   "execution_count": 17,
   "metadata": {},
   "outputs": [
    {
     "name": "stdout",
     "output_type": "stream",
     "text": [
      "[[[1, 1], [5, 1], [2, 1], [3, 1], [5, 1]], [[7], [5], [4], [3], [5]]]\n",
      "([-0.21875], [5.5])\n"
     ]
    }
   ],
   "source": [
    "#Test linearRegression\n",
    "a = [[1,1],[5,1],[2,1],[3,1],[5,1]]\n",
    "b = [[7],[5],[4],[3],[5]]\n",
    "t1 = [a,b]\n",
    "print t1\n",
    "temp = linearRegression(t1)\n",
    "print temp"
   ]
  },
  {
   "cell_type": "markdown",
   "metadata": {},
   "source": [
    "## 3.3 测试你的线性回归实现"
   ]
  },
  {
   "cell_type": "code",
   "execution_count": 18,
   "metadata": {},
   "outputs": [
    {
     "name": "stdout",
     "output_type": "stream",
     "text": [
      "原設定線性函數為([4],[-100]), 100個亂數點進行回歸後得到的函數為： ([4.0], [-103.0])\n"
     ]
    }
   ],
   "source": [
    "# TODO 构造线性函数\n",
    "#y = 4x - 100\n",
    "# TODO 构造 100 个线性函数上的点，加上适当的高斯噪音\n",
    "import random\n",
    "mx = []\n",
    "my = []\n",
    "i = 0\n",
    "for i in range(100):\n",
    "    x = i\n",
    "    y = 4*i - 100\n",
    "    mx.append(x)\n",
    "    my.append(y)\n",
    "#print mx,my\n",
    "mx2,my2=mx,my\n",
    "for i in range(100):\n",
    "    mx2[i] = mx[i] + random.gauss(1,0)\n",
    "    my2[i] = my[i] + random.gauss(1,0)\n",
    "#print 'mx2=',mx2,'my2=',my2\n",
    "#TODO 对这100个点进行线性回归，将线性回归得到的函数和原线性函数比较\n",
    "mx3 = []\n",
    "my3 = []\n",
    "for i in range(100):\n",
    "    mx3.append([mx2[i],1])\n",
    "    my3.append([my2[i]])\n",
    "result = linearRegression([mx3,my3])\n",
    "print '原設定線性函數為([4],[-100]), 100個亂數點進行回歸後得到的函數為：',result"
   ]
  },
  {
   "cell_type": "markdown",
   "metadata": {},
   "source": [
    "## 4.1 单元测试\n",
    "\n",
    "请确保你的实现通过了以下所有单元测试。"
   ]
  },
  {
   "cell_type": "code",
   "execution_count": 19,
   "metadata": {},
   "outputs": [
    {
     "name": "stderr",
     "output_type": "stream",
     "text": [
      "test_addScaleRow (__main__.LinearRegressionTestCase) ... ok\n",
      "test_augmentMatrix (__main__.LinearRegressionTestCase) ... ok\n",
      "test_gj_Solve (__main__.LinearRegressionTestCase) ... ok\n",
      "test_matxMultiply (__main__.LinearRegressionTestCase) ... ok\n",
      "test_matxRound (__main__.LinearRegressionTestCase) ... ok\n",
      "test_scaleRow (__main__.LinearRegressionTestCase) ... ok\n",
      "test_shape (__main__.LinearRegressionTestCase) ... ok\n",
      "test_swapRows (__main__.LinearRegressionTestCase) ... ok\n",
      "test_transpose (__main__.LinearRegressionTestCase) ... ok\n",
      "\n",
      "----------------------------------------------------------------------\n",
      "Ran 9 tests in 0.139s\n",
      "\n",
      "OK\n"
     ]
    },
    {
     "data": {
      "text/plain": [
       "<unittest.runner.TextTestResult run=9 errors=0 failures=0>"
      ]
     },
     "execution_count": 19,
     "metadata": {},
     "output_type": "execute_result"
    }
   ],
   "source": [
    "import unittest\n",
    "import numpy as np\n",
    "\n",
    "from decimal import *\n",
    "\n",
    "class LinearRegressionTestCase(unittest.TestCase):\n",
    "    \"\"\"Test for linear regression project\"\"\"\n",
    "\n",
    "    def test_shape(self):\n",
    "\n",
    "        for _ in range(10):\n",
    "            r,c = np.random.randint(low=1,high=25,size=2)\n",
    "            matrix = np.random.randint(low=-10,high=10,size=(r,c))\n",
    "            self.assertEqual(shape(matrix.tolist()),(r,c))\n",
    "\n",
    "\n",
    "    def test_matxRound(self):\n",
    "\n",
    "        for decpts in range(10):\n",
    "            r,c = np.random.randint(low=1,high=25,size=2)\n",
    "            matrix = np.random.random((r,c))\n",
    "\n",
    "            mat = matrix.tolist()\n",
    "            dec_true = [[Decimal(str(round(num,decpts))) for num in row] for row in mat]\n",
    "\n",
    "            matxRound(mat,decpts)\n",
    "            dec_test = [[Decimal(str(num)) for num in row] for row in mat]\n",
    "\n",
    "            res = Decimal('0')\n",
    "            for i in range(len(mat)):\n",
    "                for j in range(len(mat[0])):\n",
    "                    res += dec_test[i][j].compare_total(dec_true[i][j])\n",
    "\n",
    "            self.assertEqual(res,Decimal('0'))\n",
    "\n",
    "\n",
    "    def test_transpose(self):\n",
    "        for _ in range(10):\n",
    "            r,c = np.random.randint(low=1,high=25,size=2)\n",
    "            matrix = np.random.random((r,c))\n",
    "\n",
    "            mat = matrix.tolist()\n",
    "            t = np.array(transpose(mat))\n",
    "\n",
    "            self.assertEqual(t.shape,(c,r))\n",
    "            self.assertTrue((matrix.T == t).all())\n",
    "\n",
    "\n",
    "    def test_matxMultiply(self):\n",
    "\n",
    "        for _ in range(10):\n",
    "            r,d,c = np.random.randint(low=1,high=25,size=3)\n",
    "            mat1 = np.random.randint(low=-10,high=10,size=(r,d)) \n",
    "            mat2 = np.random.randint(low=-5,high=5,size=(d,c)) \n",
    "            dotProduct = np.dot(mat1,mat2)\n",
    "\n",
    "            dp = np.array(matxMultiply(mat1,mat2))\n",
    "\n",
    "            self.assertTrue((dotProduct == dp).all())\n",
    "\n",
    "\n",
    "    def test_augmentMatrix(self):\n",
    "\n",
    "        for _ in range(10):\n",
    "            r,c = np.random.randint(low=1,high=25,size=2)\n",
    "            A = np.random.randint(low=-10,high=10,size=(r,c))\n",
    "            b = np.random.randint(low=-10,high=10,size=(r,1))\n",
    "\n",
    "            Ab = np.array(augmentMatrix(A.tolist(),b.tolist()))\n",
    "            ab = np.hstack((A,b))\n",
    "\n",
    "            self.assertTrue((Ab == ab).all())\n",
    "\n",
    "    def test_swapRows(self):\n",
    "        for _ in range(10):\n",
    "            r,c = np.random.randint(low=1,high=25,size=2)\n",
    "            matrix = np.random.random((r,c))\n",
    "\n",
    "            mat = matrix.tolist()\n",
    "\n",
    "            r1, r2 = np.random.randint(0,r, size = 2)\n",
    "            swapRows(mat,r1,r2)\n",
    "\n",
    "            matrix[[r1,r2]] = matrix[[r2,r1]]\n",
    "\n",
    "            self.assertTrue((matrix == np.array(mat)).all())\n",
    "\n",
    "    def test_scaleRow(self):\n",
    "\n",
    "        for _ in range(10):\n",
    "            r,c = np.random.randint(low=1,high=25,size=2)\n",
    "            matrix = np.random.random((r,c))\n",
    "\n",
    "            mat = matrix.tolist()\n",
    "\n",
    "            rr = np.random.randint(0,r)\n",
    "            with self.assertRaises(ValueError):\n",
    "                scaleRow(mat,rr,0)\n",
    "\n",
    "            scale = np.random.randint(low=1,high=10)\n",
    "            scaleRow(mat,rr,scale)\n",
    "            matrix[rr] *= scale\n",
    "\n",
    "            self.assertTrue((matrix == np.array(mat)).all())\n",
    "    \n",
    "    def test_addScaleRow(self):\n",
    "\n",
    "        for _ in range(10):\n",
    "            r,c = np.random.randint(low=1,high=25,size=2)\n",
    "            matrix = np.random.random((r,c))\n",
    "\n",
    "            mat = matrix.tolist()\n",
    "\n",
    "            r1,r2 = np.random.randint(0,r,size=2)\n",
    "\n",
    "            scale = np.random.randint(low=1,high=10)\n",
    "            addScaledRow(mat,r1,r2,scale)\n",
    "            matrix[r1] += scale * matrix[r2]\n",
    "\n",
    "            self.assertTrue((matrix == np.array(mat)).all())\n",
    "\n",
    "\n",
    "    def test_gj_Solve(self):\n",
    "\n",
    "        for _ in range(10):\n",
    "            r = np.random.randint(low=3,high=10)\n",
    "            A = np.random.randint(low=-10,high=10,size=(r,r))\n",
    "            b = np.arange(r).reshape((r,1))\n",
    "            x = gj_Solve(A.tolist(),b.tolist())\n",
    "            if np.linalg.matrix_rank(A) < r:\n",
    "                self.assertEqual(x,None)\n",
    "            else:\n",
    "                # Ax = matxMultiply(A.tolist(),x)\n",
    "                Ax = np.dot(A,np.array(x))\n",
    "                loss = np.mean((Ax - b)**2)\n",
    "                # print Ax\n",
    "                # print loss\n",
    "                self.assertTrue(loss<0.1)\n",
    "\n",
    "\n",
    "suite = unittest.TestLoader().loadTestsFromTestCase(LinearRegressionTestCase)\n",
    "unittest.TextTestRunner(verbosity=3).run(suite)"
   ]
  }
 ],
 "metadata": {
  "anaconda-cloud": {},
  "celltoolbar": "Raw Cell Format",
  "kernelspec": {
   "display_name": "Python 2",
   "language": "python",
   "name": "python2"
  },
  "language_info": {
   "codemirror_mode": {
    "name": "ipython",
    "version": 2
   },
   "file_extension": ".py",
   "mimetype": "text/x-python",
   "name": "python",
   "nbconvert_exporter": "python",
   "pygments_lexer": "ipython2",
   "version": "2.7.13"
  }
 },
 "nbformat": 4,
 "nbformat_minor": 2
}
